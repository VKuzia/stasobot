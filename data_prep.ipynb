{
 "cells": [
  {
   "cell_type": "markdown",
   "id": "36268254",
   "metadata": {},
   "source": [
    "# Prepares data for char_RNN.ipynb\n",
    "\n",
    "Basically, gathers several files into one txt or cleans up Telegram exports."
   ]
  },
  {
   "cell_type": "markdown",
   "id": "f75434d5",
   "metadata": {},
   "source": [
    "## Simple join of all texts in a given dir"
   ]
  },
  {
   "cell_type": "code",
   "execution_count": 14,
   "id": "a780bd8f",
   "metadata": {},
   "outputs": [],
   "source": [
    "from os import listdir\n",
    "from tqdm import tqdm\n",
    "\n",
    "\n",
    "dir_name = \"some_dir\"\n",
    "books = listdir(dir_name)"
   ]
  },
  {
   "cell_type": "code",
   "execution_count": 15,
   "id": "48487134",
   "metadata": {},
   "outputs": [],
   "source": [
    "def get_text(book, prefix = ''):\n",
    "    with open(prefix + book) as file:\n",
    "        return file.read()"
   ]
  },
  {
   "cell_type": "code",
   "execution_count": 16,
   "id": "5af164d3",
   "metadata": {},
   "outputs": [
    {
     "name": "stderr",
     "output_type": "stream",
     "text": [
      "100%|██████████| 89/89 [00:00<00:00, 815.84it/s]\n"
     ]
    }
   ],
   "source": [
    "texts = []\n",
    "pbar = tqdm(books)\n",
    "for book in pbar:\n",
    "    try:\n",
    "        texts.append(get_text(book, f'{dir_name}/'))\n",
    "    except:\n",
    "        print(book)"
   ]
  },
  {
   "cell_type": "code",
   "execution_count": 17,
   "id": "07ddfd45",
   "metadata": {},
   "outputs": [],
   "source": [
    "text = '\\n'.join(texts)"
   ]
  },
  {
   "cell_type": "code",
   "execution_count": 19,
   "id": "482fe31d",
   "metadata": {},
   "outputs": [],
   "source": [
    "with open('output.txt', 'w') as output:\n",
    "    output.write(text)"
   ]
  },
  {
   "cell_type": "markdown",
   "id": "1addcea4",
   "metadata": {},
   "source": [
    "## Filtering Telegram exports"
   ]
  },
  {
   "cell_type": "code",
   "execution_count": null,
   "id": "7a8f14af",
   "metadata": {},
   "outputs": [],
   "source": [
    "import json\n",
    "\n",
    "with open('manuls.json', 'r') as file:\n",
    "    json_data = json.load(file)\n",
    "\n",
    "# display(json_data['messages'][:10])\n",
    "\n",
    "friends_id = '' # define it yourself\n",
    "\n",
    "# You also might want to filter messages in another manner, than just by given user id.\n",
    "# To understand that bunch of ifs, look at telegram json exports format.\n",
    "stas_messages = [obj['text'] for obj in json_data['messages'] if 'from_id' in obj.keys() and obj['from_id']==friends_id and type(obj['text'])==str and len(obj['text']) > 0]    \n",
    "display(stas_messages[:29])"
   ]
  },
  {
   "cell_type": "markdown",
   "id": "8b377546",
   "metadata": {},
   "source": [
    "Define the alphabet to filter messages with.\n",
    "Moreover, use special symbol to separate messages from each other (as newlines may appear in one message)"
   ]
  },
  {
   "cell_type": "code",
   "execution_count": null,
   "id": "bc362002",
   "metadata": {},
   "outputs": [],
   "source": [
    "special = '$'\n",
    "alphabet=\"абвгдеёжзийклмнопрстуфхцчшщъыьэюяАБВГДЕЁЖЗИЙКЛМНОПРСТУФХЦЧШЩЪЫЬЭЮЯ .,!?\\n\" + special\n",
    "def filter_by_alphabet(text, alphabet):\n",
    "    return ''.join([character for character in text if character in alphabet])\n",
    "\n",
    "stas_text = special.join(stas_messages)\n",
    "display(stas_text[:200])\n",
    "text = filter_by_alphabet(stas_text, alphabet)\n",
    "display(text[:200])"
   ]
  },
  {
   "cell_type": "code",
   "execution_count": 17,
   "id": "6de9da2d",
   "metadata": {},
   "outputs": [],
   "source": [
    "with open('stas_manuls.txt', 'w') as output:\n",
    "    output.write(text)"
   ]
  },
  {
   "cell_type": "markdown",
   "id": "e1ee5e37",
   "metadata": {},
   "source": [
    "Join some txt's if you need to."
   ]
  },
  {
   "cell_type": "code",
   "execution_count": 19,
   "id": "d464f688",
   "metadata": {},
   "outputs": [],
   "source": [
    "stas_text = '\\n'.join([get_text(book, '') for book in ['stas_manuls.txt', 'stas_dm.txt']])"
   ]
  },
  {
   "cell_type": "code",
   "execution_count": 21,
   "id": "83fc3916",
   "metadata": {},
   "outputs": [],
   "source": [
    "with open('stas_final.txt', 'w') as output:\n",
    "    output.write(stas_text)"
   ]
  },
  {
   "cell_type": "code",
   "execution_count": 3,
   "id": "3a1be547",
   "metadata": {},
   "outputs": [],
   "source": [
    "import json\n",
    "\n",
    "def obj_predicate(obj, id_to_search):\n",
    "    return 'from_id' in obj.keys() and (id_to_search is None or obj['from_id'] == id_to_search) and type(obj['text'])==str and len(obj['text']) > 0\n",
    "\n",
    "special = '$'\n",
    "alphabet=\"абвгдеёжзийклмнопрстуфхцчшщъыьэюяАБВГДЕЁЖЗИЙКЛМНОПРСТУФХЦЧШЩЪЫЬЭЮЯ .,!?\\n\" + special\n",
    "def filter_by_alphabet(text, alphabet):\n",
    "    return ''.join([character for character in text if character in alphabet])\n",
    "\n",
    "\n",
    "def unite_jsons(list_of_jsons, id_to_search=None):\n",
    "    messages = []\n",
    "    for file in list_of_jsons:\n",
    "        print(file)\n",
    "        with open(file, 'r') as json_file:\n",
    "            json_data = json.load(json_file)\n",
    "            messages += [obj['text'] for obj in json_data['messages'] if obj_predicate(obj, id_to_search)]\n",
    "    filtered_list = []\n",
    "    for message in messages:\n",
    "        filtered = filter_by_alphabet(message, alphabet)\n",
    "        if len(filtered) > 0:\n",
    "            filtered_list.append(filtered)\n",
    "    return special.join(filtered_list)"
   ]
  },
  {
   "cell_type": "code",
   "execution_count": 7,
   "id": "6705cf9b",
   "metadata": {},
   "outputs": [],
   "source": [
    "list_of_jsons = [\n",
    "    'kalb.json',\n",
    "    'pluses.json',\n",
    "    'manuls.json',\n",
    "    'gouse.json',\n",
    "    'kollok.json',\n",
    "    'hypers.json',\n",
    "    'anton_dm.json'\n",
    "]"
   ]
  },
  {
   "cell_type": "code",
   "execution_count": 8,
   "id": "3d1bf009",
   "metadata": {},
   "outputs": [
    {
     "name": "stdout",
     "output_type": "stream",
     "text": [
      "hypers.json\n",
      "anton_dm.json\n"
     ]
    },
    {
     "data": {
      "text/plain": [
       "'э$кто удалил?$нет$что по дбд?$на НГ играем?$когда качать ?$Володя шпиён$кинь ссылочку$дадада$там были стикеры с пингвинами$это тебе, молодой человек$это че за лысый$пасаны$вы че$спать пошли?$Гдето на экзамене$Я про забрать$Играть, конечно, не вариант сейчас$похоже карлсен выиграл$Реально$Хз чё вы ме'"
      ]
     },
     "metadata": {},
     "output_type": "display_data"
    }
   ],
   "source": [
    "text = unite_jsons(list_of_jsons, \"user868602584\")\n",
    "display(text[:300])"
   ]
  },
  {
   "cell_type": "code",
   "execution_count": 9,
   "id": "68c1cc04",
   "metadata": {},
   "outputs": [],
   "source": [
    "with open('anton.txt', 'w') as output:\n",
    "    output.write(text)"
   ]
  },
  {
   "cell_type": "code",
   "execution_count": 9,
   "id": "9b162380",
   "metadata": {},
   "outputs": [],
   "source": [
    "def concat_txt(list_of_files):\n",
    "    summary=\"\"\n",
    "    for file in list_of_files:\n",
    "        print(file)\n",
    "        with open(file, 'r') as file_text:\n",
    "            summary += file_text.read()\n",
    "    return filter_by_alphabet(summary, alphabet)"
   ]
  },
  {
   "cell_type": "code",
   "execution_count": 10,
   "id": "79e22e42",
   "metadata": {},
   "outputs": [
    {
     "name": "stdout",
     "output_type": "stream",
     "text": [
      "new_data/king1.txt\n",
      "new_data/king2.txt\n",
      "new_data/king3.txt\n",
      "new_data/king4.txt\n",
      "new_data/king5.txt\n",
      "new_data/king6.txt\n"
     ]
    }
   ],
   "source": [
    "list_of_txt = [f'new_data/king{i}.txt' for i in range(1, 7)]\n",
    "text = concat_txt(list_of_txt)"
   ]
  },
  {
   "cell_type": "code",
   "execution_count": 11,
   "id": "8d39046b",
   "metadata": {},
   "outputs": [
    {
     "data": {
      "text/plain": [
       "'Стрелок. Извлечение троих. Бесплодные земли\\nСтивен Кинг\\n\\n\\nТемная Башня\\nЮный Роланд  последний благородный рыцарь в мире, сдвинувшемся с места. Ему во что бы то ни стало нужно найти Темную Башню  средо'"
      ]
     },
     "metadata": {},
     "output_type": "display_data"
    }
   ],
   "source": [
    "display(text[:200])"
   ]
  },
  {
   "cell_type": "code",
   "execution_count": 12,
   "id": "de9de61f",
   "metadata": {},
   "outputs": [],
   "source": [
    "with open('king.txt', 'w') as output:\n",
    "    output.write(text)"
   ]
  },
  {
   "cell_type": "code",
   "execution_count": 3,
   "id": "7cf26a2f",
   "metadata": {},
   "outputs": [
    {
     "data": {
      "text/plain": [
       "'\\n\\n<|startoftext|>Только заметил, что слово \"п@рно\" набирается самими центральными клавишами. Как все продумано, блин!\\n\\n<|startoftext|>Друзья мои, чтобы соответствовать вам, я готов сделать над собой усилие и стать лучше. Но тогда и вы станьте немного хуже!\\n\\n<|startoftext|>- Люся, ты все еще хранишь мой подарок?- Да.- Я думал, ты выкинула все, что со мной связано.- Плюшевый мишка не виноват, что ты'"
      ]
     },
     "metadata": {},
     "output_type": "display_data"
    },
    {
     "data": {
      "text/plain": [
       "'Только заметил, что слово \"п@рно\" набирается самими центральными клавишами. Как все продумано, блин!$\\nДрузья мои, чтобы соответствовать вам, я готов сделать над собой усилие и стать лучше. Но тогда и вы станьте немного хуже!$\\n- Люся, ты все еще хранишь мой подарок?- Да.- Я думал, ты выкинула все, что со мной связано.- Плюшевый мишка не виноват, что ты ебл@н...$\\n- А вот скажи честно, ты во сне храп'"
      ]
     },
     "metadata": {},
     "output_type": "display_data"
    }
   ],
   "source": [
    "with open('anek.txt', 'r') as file:\n",
    "    text = file.read()\n",
    "    display(text[:400])\n",
    "    text = text.replace('\\n\\n<|startoftext|>', \"$\\n\")[2:]\n",
    "    display(text[:400])\n",
    "\n",
    "with open('anek_output.txt', 'w') as output:\n",
    "    output.write(text)"
   ]
  },
  {
   "cell_type": "code",
   "execution_count": 4,
   "id": "3d78cf3c",
   "metadata": {},
   "outputs": [],
   "source": [
    "special = '$'\n",
    "alphabet='абвгдеёжзийклмнопрстуфхцчшщъыьэюяАБВГДЕЁЖЗИЙКЛМНОПРСТУФХЦЧШЩЪЫЬЭЮЯ .,!?\\n\"' + special\n",
    "def filter_by_alphabet(text, alphabet):\n",
    "    return ''.join([character for character in text if character in alphabet])"
   ]
  },
  {
   "cell_type": "code",
   "execution_count": 14,
   "id": "76a25ffb",
   "metadata": {},
   "outputs": [
    {
     "data": {
      "text/plain": [
       "'Пришлось читать во второй раз.\\n\\nШтирлиц выстрелил вслепую. Слепая упала как подкошенная. Подкошенную Штирлиц застрелил накануне.\\n\\nЛампа горела, но света не давала.\\n\"Чтото тут не так ...\"  подумал Штирлиц и погасил лампу.\\nСвета дала.\\n\\nШтирлиц шел по лесу и напоролся на сук. Суки разбежались.\\n\\nШтирлиц сунул вилку в розетку, когда ему тактично намекнули, что из розетки едят ложечкой.\\n\\nВо время секретного совещания в бункер Гитлера с шашкой наголо ворвался Штирлиц и закричал\\n Порублю, гады.\\nГады скинулись по рублю. Штирлиц собрал деньги и ушел.\\n\\nШтирлиц сидел у камина и вязал. Вязание успокаивало Штирлица. После окончания вязания у камина остался лежать связанный Мюллер.\\n\\n Штирлиц, у вас есть план?  спросил Шелленберг.\\n Конечно. Но я больше люблю героин,  ответил с улыбкой Штирлиц.\\n\\nШтирлиц рассказал неприличный анекдот и вогнал Мюллера в краску. \"Стеснительный какой\"  подумал Штирлиц, наглухо закрывая бочку.\\n\\nШтирлиц спросил Кэт  Вы любите фильмы про любовь?\\n Бесспорно!  ответила Кэт.\\n А я с порно,  признался Штирлиц.\\n\\nШтирлиц поднял трубку и услышал томный голос радистки Кэт\\n Вам, наверное, не спится без меня?\\n Почему же? Спиться я могу и без вас,  ответил Штирлиц и налил очередной стакан водки.\\n\\nШтирлиц шёл в Дрезден с трудом разбирая дорогу.\\nНаутро железная дорога от Берлина до Дрездена была полностью разобрана...\\n\\nВ прошлом году Штирлицу присвоили очередное воинское звание и дали папаху.\\nПах болит до сих пор ...\\n\\nШтирлиц шел по лесу и увидел голубые ели! Когда он подошел поближе, то увидел, что голубые не только ели, но ещё пили, курили травку и танцевали.\\n\\nШтирлиц ехал на машине по берегу моря.\\nВыйду посмотрю отлив на море  подумал Штирлиц... и отлив, посмотрел.\\n\\nШтирлицу за шиворот упала гусеница. \"Гдето взорвался танк,\"  подумал Штирлиц.\\n\\nШтирлиц приготовился к бою, ....\\nа пришла гёрл...\\n\\nШтирлиц вышел из моря и лёг на гальку. Галька обиделась и ушла.\\n\\n. По вечерам, Штирлиц обычно спускался в тир гестапо  пострелять. Поскольку к вечеру Штирлиц так же любил и выпить, то он частенько попадал в молоко, чем приводил в неясную задумчивость Мюллера, который так никогда и не понял  как можно попадать в молоко, не разбивая при этом стакана...\\n\\n. Советские самолеты бомбили Берлин. Бомбили беспощадно, но осторожно каждый летчик понимал  там Штирлиц.\\n\\n. Штирлиц спасался от преследовавших его эсэсовцев сунул руку в карман.\"Это конец\", подумал доблестный разведчик... Голос за кадром \"Это действительно был конец  Штирлиц носил пистолет в другом кармане...\"\\n\\n. Штирлиц пишет статью в телеконференцию \", \"..., но потом быстро исправляет на \" !!!\"\\n\\n. Штирлиц просматривает электронную почту. Незаметно входит Мюллер. У Штирлица на экране появляется бессмысленный набор символов. \"Шифровка!!!\"  подумал Мюллер. \"\"  подумал Штирлиц.\\n\\n.  Ало это база?  Это ракетная база, вы не туда попали.  Это вы не туда попали! Кто заплатит за мой сарай?\\n\\n. Мужик приходит в милицию Мужик Я у вас тут был вчера... Заявление еще писал, что тачку у меня угнали... Дежурный Ну так что? Мужик Да вот забрать его хочу! Дежурный Почему это? Мужик Да нашлась машина, жена на ней по своим делам ездила. Дежурный Иди, мужик, не порть отчетность! Мы уже угонщиков поймали!\\n\\n.  Откуда вы так хорошо знаете розничные цены на домашнюю живность, начиная с утки и кончая бараном? Вероятно, вы занимаетесь торговлей?  Нет, я недавно купил автомобиль и поехал на нем на дачу...\\n\\n.  Узнаете ли вы в подсудимом человека, который украл у вас автомобиль?  спрашивает судья у потерпевшего.  Господин судья, после речи адвоката я не уверен, был ли у меня вообще автомобиль.\\n\\n. Старый молодому говорит  Смотри студент, как работать надо. Достает он жезл и остановил мерс. Окошко в мерсе открывается мусор туда голову засовывает, его в это время за уши хвать и давай драить во все щели. Отодрали и отъезжают. Гаишник молодому орет  Номер! Номер! А студент ему  Такого номера я и в цирке не видел.\\n\\n. Парень с девушкой занимаются в машине любовью. Подходит гаишник, стучит палкой в окно  Я следующий!  Ну, ладно. Давно я, правда, ментов не имел!\\n\\n. Модели на подиуме демонстрируют суперновинки сезона  А сейчас представляем Вашему вниманию суперновинку сезона  костюм \"гаишника\", наиболее наглядно подчёркивающий его образ в народе...  А зачем юбка и колготки в клеточку? А губы зачем накрасили?  А какое слово Вы произносите первым, когда закрываете дверь машины после уплаты штрафа?\\n\\n. Штирлиц проснулся в тюремной камере. Он совершенно не помнил, как сюда попал, какое сегодня число и какая в городе власть. После долгих размышлений он наконец решил, что если войдет гестаповец, надо будет сказать \"Хайль Гитлер, я  штандартенфюрер СС фон Штирлиц\", а если войдет советский солдат  представиться \"Я  полковник Исаев\". В этот момент входит милиционер и говорит \"Ну и зажрались Вы вчера, товарищ Тихонов\".\\n\\n. Гитлер принимает в своем кабинете Муссолини. Вдруг дверь распахивается, входит Штирлиц, ни на кого не обращая внимания, подходит к сейфу, открывает его своим ключом и начинает рыться в нем, выбрасывая ненужные документы на пол.  Кто это?  удивленно спрашивает дуче.  Русский разведчик Исаев,  безразличным тоном отвечает фюрер,  У нас Штирлицем числится.  Так почему же ты его не арестуешь?  А, все равно отвертится.\\n\\n. В кафе \"\" вошел Штирлиц. \"Это Штирлиц, сейчас будет драка,\"  сказал один из посетителей. Штирлиц выпил чашечку кофе и вышел. \"Нет,  возразил второй посетитель,  это не Штирлиц\". \"Нет, Штирлиц!\" закричал первый. И тут началась драка.\\n\\n. Мюллер вызывает Штирлица и говорит \"Завтра коммунистический субботник, явка обязательна.\" Штирлиц отвечает \"Есть\" и, поняв, что провалился, садится за стол и, не замечая удивленного взгляда Мюллера, пишет \"Я, штандартенфюрер фон Штирлиц на самом деле являюсь советским разведчиком.\" Мюллер, прочитав этот рапорт, звонит Шелленбергу и говорит \"Вальтер, зайдите, посмотрите, что Ваши люди придумывают, чтобы на субботник не ходить.\"\\n\\n. Звонок Гитлера Сталину \"Сталин, Ваши люди не брали у меня из сейфа секретные документы?\"  \"Выясню.\" Звонок Сталина Штирлицу \"Штирлиц, вы брали у Гитлера из сейфа секретные документы?\"  \"Так точно, товарищ Сталин.\"  \"Так положите на место, люди волнуются.\"\\n\\n.  Какого цвета у меня трусы?  спросил Мюллер.  Красные,  не задумываясь, ответил Штирлиц.  Вот Вы и попались!  воскликнул Мюллер,  Цвет моих трусов кроме меня знает лишь русская пианистка!  Не валяйте дурака, Мюллер,  спокойно ответил Штирлиц,  и застегните ширинку.\\n\\n. Штирлицу сообщили, что у него в России родился сын. Скупая мужская слеза выкатилась из его глаза. Штирлиц не был на Родине уже семь лет.\\n\\n. Штирлиц шел по Берлину и увидел на стене надпись \"Штирлиц  дурак\". Только он один понял, что ему присвоено звание Героя Советского Союза.\\n\\nМюллер с бешенной скоростью мчался в автомобиле. А рядом шел Штирлиц, делая вид, что он прогуливается.\\n\\n. У Штирлица сломалась машина. Он вышел и стал копаться в моторе. \"Штирлиц, Вы  русский разведчик,\"  сказал проходивший мимо Мюллер.\\n\\n \"Немец отдал бы свою машину в автосервис\".\\n\\n. Швейцария, Берн. Штирлиц и пастор Шлаг сидят в ресторане. Пастор, заметив, что Штирлиц ест руками, делает замечание \"Господин Штирлиц, колбасу надо брать вилкой\". Голос за кадром \"Штирлиц, конечно, знал, что колбасу надо брать вилкой, но ему так хотелось хоть мгновение побыть самим собой\".\\n\\n. Дверь кабинета Бормана распахнулась и появившийся на пороге незнакомец отчетливо произнес, глядя Борману прямо в глаза  Слоны идут на север.  Слоны идут к черту!  вспылил Борман.  А кабинет Штирлица этажом выше.\\n\\n. Проснувшись, Штирлиц вспомнил, что вчера на приеме у Мюллера он наговорил лишнего. Решив выяснить все разом, он вошел в кабинет и спросил  Мюллер, Вы догадались, что я  русский агент?  Нет,  признался Мюллер.  Ну, слава богу,  сказал Штирлиц и со спокойной душой пошел домой.\\n\\n. \"Документы на стол!  закричал Штирлиц и врезал Мюллеру в ухо.  Кстати, Мюллер, не найдется ли у Вас канцелярских скрепок?\" Голос за кадром Штирлиц знал, что лучше всего запоминается последняя фраза, и если Мюллера спросят, зачем при'"
      ]
     },
     "metadata": {},
     "output_type": "display_data"
    }
   ],
   "source": [
    "with open('shtirliz.txt', 'r') as file:\n",
    "    text = file.read()\n",
    "    text = filter_by_alphabet(text, alphabet)\n",
    "    display(text[2000:10000])\n",
    "    text = text.replace('\\n\\n', '$\\n\\n').replace('\\n\\n. ', '\\n\\n').replace('\\n. ', '\\n').replace('\\n\\n \\n', '\\n\\n').replace('     ', '')\n",
    "\n",
    "with open('shtirliz_output.txt', 'w') as output:\n",
    "    output.write(text)"
   ]
  },
  {
   "cell_type": "code",
   "execution_count": null,
   "id": "607096f5",
   "metadata": {},
   "outputs": [],
   "source": []
  }
 ],
 "metadata": {
  "kernelspec": {
   "display_name": "Python 3 (ipykernel)",
   "language": "python",
   "name": "python3"
  },
  "language_info": {
   "codemirror_mode": {
    "name": "ipython",
    "version": 3
   },
   "file_extension": ".py",
   "mimetype": "text/x-python",
   "name": "python",
   "nbconvert_exporter": "python",
   "pygments_lexer": "ipython3",
   "version": "3.8.10"
  }
 },
 "nbformat": 4,
 "nbformat_minor": 5
}
